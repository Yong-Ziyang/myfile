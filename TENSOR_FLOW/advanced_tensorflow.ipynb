{
 "cells": [
  {
   "cell_type": "code",
   "execution_count": 1,
   "metadata": {},
   "outputs": [
    {
     "name": "stdout",
     "output_type": "stream",
     "text": [
      "3.0\n",
      "6.0\n",
      "9.0\n",
      "12.0\n",
      "15.0\n"
     ]
    }
   ],
   "source": [
    "import numpy as np\n",
    "import tensorflow as tf\n",
    "sess=tf.Session()\n",
    "x_vals=np.array([1.0,2.0,3.0,4.0,5.0])\n",
    "x_data=tf.placeholder(tf.float32)\n",
    "m_const=tf.constant(3.0)\n",
    "my_product=tf.multiply(x_data,m_const)\n",
    "for x_val in x_vals:\n",
    "    print(sess.run(my_product,{x_data:x_val}))"
   ]
  },
  {
   "cell_type": "code",
   "execution_count": 2,
   "metadata": {},
   "outputs": [
    {
     "name": "stdout",
     "output_type": "stream",
     "text": [
      "[[ 102.]\n",
      " [  66.]\n",
      " [  58.]]\n",
      "[[ 114.]\n",
      " [  78.]\n",
      " [  70.]]\n"
     ]
    }
   ],
   "source": [
    "my_array=np.array([[1.,3.,5.,7.,9.],[-2.,0.,2.,4.,6.,],[-6.,-3.,0.,3.,6.]])\n",
    "x_vals=np.array([my_array,my_array+1])\n",
    "x_data=tf.placeholder(tf.float32,shape=(3,5))\n",
    "m1=tf.constant([[1.],[0.],[-1.],[2.],[4.]])\n",
    "m2=tf.constant([[2.]])\n",
    "m3=tf.constant([[10.]])\n",
    "mul1=tf.matmul(x_data,m1)\n",
    "mul2=tf.matmul(mul1,m2)\n",
    "add=tf.add(mul2,m3)\n",
    "\n",
    "for x_val in x_vals:\n",
    "    print(sess.run(add,feed_dict={x_data:x_val}))"
   ]
  },
  {
   "cell_type": "code",
   "execution_count": 3,
   "metadata": {},
   "outputs": [
    {
     "name": "stdout",
     "output_type": "stream",
     "text": [
      "[[ 210.]]\n",
      "[[ 230.]]\n"
     ]
    }
   ],
   "source": [
    "my_array=np.arange(16.0).reshape(4,4)\n",
    "x_vals=np.array([my_array,my_array+1])\n",
    "x_data=tf.placeholder(tf.float32,shape=(4,4))\n",
    "m1=tf.constant([[1.,2.,3.,4.]])\n",
    "m2=tf.constant([[1.],[0.],[-1.],[2.]])\n",
    "m3=tf.constant(10.)\n",
    "mul1=tf.matmul(m1,x_data)\n",
    "mul2=tf.matmul(mul1,m2)\n",
    "add=tf.add(mul2,m3)\n",
    "for x_val in x_vals:\n",
    "    print(sess.run(add,feed_dict={x_data:x_val}))"
   ]
  },
  {
   "cell_type": "code",
   "execution_count": 4,
   "metadata": {},
   "outputs": [
    {
     "data": {
      "text/plain": [
       "array([[[[ 0.21558264],\n",
       "         [ 0.40850969],\n",
       "         [ 0.41026674],\n",
       "         [ 0.0313275 ]],\n",
       "\n",
       "        [[ 0.55905284],\n",
       "         [ 0.78158572],\n",
       "         [ 0.92708534],\n",
       "         [ 0.61076113]],\n",
       "\n",
       "        [[ 0.35007922],\n",
       "         [ 0.32080952],\n",
       "         [ 0.19681633],\n",
       "         [ 0.98913511]],\n",
       "\n",
       "        [[ 0.83993999],\n",
       "         [ 0.45799935],\n",
       "         [ 0.00216473],\n",
       "         [ 0.85308049]]]])"
      ]
     },
     "execution_count": 4,
     "metadata": {},
     "output_type": "execute_result"
    }
   ],
   "source": [
    "x_shape=[1,4,4,1]\n",
    "x_val=np.random.uniform(size=x_shape)\n",
    "x_val"
   ]
  },
  {
   "cell_type": "code",
   "execution_count": 5,
   "metadata": {},
   "outputs": [],
   "source": [
    "# Tensorflow 实现损失函数\n",
    "# L2损失函数，又称之为平方和损失函数\n",
    "import matplotlib.pyplot as plt\n",
    "x_val=tf.linspace(-1.,1.,500)\n",
    "target=tf.constant(0.)\n",
    "l2_y_vals=tf.square(target-x_val)\n",
    "l2loss=sess.run(l2_y_vals)"
   ]
  },
  {
   "cell_type": "code",
   "execution_count": 6,
   "metadata": {},
   "outputs": [],
   "source": [
    "# L1正则损失函数\n",
    "l1_y_vals=tf.abs(target-x_val)\n",
    "l1loss=sess.run(l1_y_vals)"
   ]
  },
  {
   "cell_type": "code",
   "execution_count": 7,
   "metadata": {},
   "outputs": [],
   "source": [
    "# Pseudo-Huber loss function\n",
    "delta1=tf.constant(0.25)\n",
    "phloss1=tf.multiply(tf.square(delta1),tf.sqrt(1.0+tf.square((target-x_val)/delta1))-1.0)\n",
    "delta1loss=sess.run(phloss1)"
   ]
  },
  {
   "cell_type": "code",
   "execution_count": 8,
   "metadata": {},
   "outputs": [],
   "source": [
    "delta2=tf.constant(5.)\n",
    "phloss2=tf.multiply(tf.square(delta2),tf.sqrt(1.0+tf.square((target-x_val)/delta2))-1.0)\n",
    "delta2loss=sess.run(phloss2)"
   ]
  },
  {
   "cell_type": "code",
   "execution_count": 9,
   "metadata": {},
   "outputs": [
    {
     "data": {
      "image/png": "[encoded data removed]",
      "text/plain": [
       "<matplotlib.figure.Figure at 0x1f2a7a572e8>"
      ]
     },
     "metadata": {},
     "output_type": "display_data"
    }
   ],
   "source": [
    "x=sess.run(x_val)\n",
    "plt.plot(x,l2loss,'b-',label='L2 loss')\n",
    "plt.plot(x,l1loss,'r--',label='L1 loss')\n",
    "plt.plot(x,delta1loss,'k-',label='P-Huber loss(0.25)')\n",
    "plt.plot(x,delta2loss,'b:',label='P-Huber loss(5.)')\n",
    "plt.ylim(-0.2,0.4)\n",
    "plt.legend(loc='lower right',prop={'size':9})\n",
    "plt.show()\n",
    "plt.close()"
   ]
  },
  {
   "cell_type": "code",
   "execution_count": 10,
   "metadata": {},
   "outputs": [],
   "source": [
    "# 分类损失函数\n",
    "x_vals=tf.linspace(-3.,5.,500)\n",
    "target=tf.constant(1.)\n",
    "targets=tf.fill([500,],1.)  #  黑科技，因为tf.fill([rnums,cnums],num)---这里将cnums设为空，代表生成一个长度为500的数组\n",
    "#targets=tf.fill([1,500],1.) # 这个和上面是不一样的，这个本质上还是个多维的array"
   ]
  },
  {
   "cell_type": "code",
   "execution_count": 11,
   "metadata": {},
   "outputs": [],
   "source": [
    "# Hinge loss function\n",
    "hinge_loss_function=tf.maximum(0.,1.-tf.multiply(target,x_vals))\n",
    "hingeloss=sess.run(hinge_loss_function)"
   ]
  },
  {
   "cell_type": "code",
   "execution_count": 12,
   "metadata": {},
   "outputs": [],
   "source": [
    "# Cross_entropy loss function 两类交叉熵\n",
    "crossentropy= -tf.multiply(target,tf.log(x_vals)) -tf.multiply((1.-target),tf.log(1.-x_vals))\n",
    "crossentropyloss=sess.run(crossentropy)"
   ]
  },
  {
   "cell_type": "code",
   "execution_count": 13,
   "metadata": {},
   "outputs": [],
   "source": [
    "# Sigmoid交叉熵\n",
    "sigmoidcrossentropy=tf.nn.sigmoid_cross_entropy_with_logits(logits=x_vals,labels=targets)\n",
    "sigmoidloss=sess.run(sigmoidcrossentropy)"
   ]
  },
  {
   "cell_type": "code",
   "execution_count": 14,
   "metadata": {},
   "outputs": [],
   "source": [
    "weight=tf.constant(0.5)\n",
    "weightcrossentroyloss=tf.nn.weighted_cross_entropy_with_logits(targets,x_vals,weight)\n",
    "weightloss=sess.run(weightcrossentroyloss)"
   ]
  },
  {
   "cell_type": "code",
   "execution_count": 15,
   "metadata": {},
   "outputs": [
    {
     "data": {
      "image/png": "[encoded data removed]",
      "text/plain": [
       "<matplotlib.figure.Figure at 0x1f2a851a1d0>"
      ]
     },
     "metadata": {},
     "output_type": "display_data"
    }
   ],
   "source": [
    "x=sess.run(x_vals)\n",
    "plt.plot(x,hingeloss,'b-',label='Hinge loss ')\n",
    "plt.plot(x,crossentropyloss,'r--',label='Cross entropy loss')\n",
    "plt.plot(x,sigmoidloss,'k-',label='Sigmoid Cross entropy loss')\n",
    "plt.plot(x,weightloss,'b:',label='Weight Cross entropy loss')\n",
    "plt.ylim(-1.5,3.0)\n",
    "plt.legend(loc='lower right',prop={'size':9})\n",
    "plt.show()\n",
    "plt.close()"
   ]
  },
  {
   "cell_type": "code",
   "execution_count": 29,
   "metadata": {},
   "outputs": [
    {
     "name": "stdout",
     "output_type": "stream",
     "text": [
      "[ 75.75401306]\n",
      "[ 1.34773457]\n",
      "[ 71.76623535]\n",
      "[ 1.66886902]\n",
      "[ 66.00598907]\n",
      "[ 1.98696721]\n",
      "[ 59.25969696]\n",
      "[ 2.30696583]\n",
      "[ 58.73465347]\n",
      "[ 2.59248281]\n",
      "[ 57.89580917]\n",
      "[ 2.85476375]\n",
      "[ 55.40974808]\n",
      "[ 3.1065855]\n",
      "[ 41.06628799]\n",
      "[ 3.39085793]\n",
      "[ 36.89534378]\n",
      "[ 3.66373897]\n",
      "[ 28.17056656]\n",
      "[ 3.93237638]\n",
      "[ 26.77919006]\n",
      "[ 4.18447065]\n",
      "[ 31.06384468]\n",
      "[ 4.41722822]\n",
      "[ 27.19027328]\n",
      "[ 4.64181328]\n",
      "[ 24.29253006]\n",
      "[ 4.85704327]\n",
      "[ 19.37249565]\n",
      "[ 5.06178951]\n",
      "[ 21.65386963]\n",
      "[ 5.25917959]\n",
      "[ 16.8008976]\n",
      "[ 5.44560623]\n",
      "[ 17.54804611]\n",
      "[ 5.62637806]\n",
      "[ 16.20821953]\n",
      "[ 5.79961205]\n",
      "[ 25.85471344]\n",
      "[ 5.97168398]\n",
      "[ 8.70479774]\n",
      "[ 6.11536598]\n",
      "[ 16.70770454]\n",
      "[ 6.27509069]\n",
      "[ 11.91691113]\n",
      "[ 6.42199039]\n",
      "[ 12.25857353]\n",
      "[ 6.56625271]\n",
      "[ 23.30790329]\n",
      "[ 6.71852827]\n",
      "[ 13.99884987]\n",
      "[ 6.85977316]\n",
      "[ 9.53953934]\n",
      "[ 6.98695946]\n",
      "[ 11.11619282]\n",
      "[ 7.11642408]\n",
      "[ 16.58789062]\n",
      "[ 7.25320673]\n",
      "[ 17.16068459]\n",
      "[ 7.38796949]\n",
      "[ 4.7591753]\n",
      "[ 7.48330212]\n",
      "[ 2.20559502]\n",
      "[ 7.55385065]\n",
      "[ 7.42233467]\n",
      "[ 7.66121435]\n",
      "[ 3.33750606]\n",
      "[ 7.7419591]\n",
      "[ 3.1052258]\n",
      "[ 7.81966448]\n",
      "[ 1.85454655]\n",
      "[ 7.88237286]\n",
      "[ 0.0391432]\n",
      "[ 7.89284754]\n",
      "[ 1.21096611]\n",
      "[ 7.9447608]\n",
      "[ 1.68611479]\n",
      "[ 8.00402927]\n",
      "[ 8.30332947]\n",
      "[ 8.10843754]\n",
      "[ 1.14255357]\n",
      "[ 8.15760517]\n",
      "[ 1.74295318]\n",
      "[ 8.21600151]\n",
      "[ 1.85839021]\n",
      "[ 8.27550316]\n",
      "[ 0.62390405]\n",
      "[ 8.3123188]\n",
      "[ 11.08287907]\n",
      "[ 8.42053032]\n",
      "[ 5.75547647]\n",
      "[ 8.50907707]\n",
      "[ 0.09240898]\n",
      "[ 8.49340248]\n",
      "[ 0.79629397]\n",
      "[ 8.53331757]\n",
      "[ 0.0023199]\n",
      "[ 8.53569317]\n",
      "[ 0.90032297]\n",
      "[ 8.57761002]\n",
      "[ 0.08784]\n",
      "[ 8.59171963]\n",
      "[ 2.19056249]\n",
      "[ 8.65236759]\n",
      "[ 0.35125485]\n",
      "[ 8.67932987]\n",
      "[ 0.31088588]\n",
      "[ 8.70471764]\n",
      "[ 0.02916489]\n",
      "[ 8.71283722]\n",
      "[ 2.68522978]\n",
      "[ 8.77762699]\n",
      "[ 1.97546625]\n",
      "[ 8.83447266]\n",
      "[ 2.68832827]\n",
      "[ 8.89834785]\n",
      "[ 2.47752213]\n",
      "[ 8.95972919]\n",
      "[ 0.84592116]\n",
      "[ 8.9984293]\n",
      "[ 1.35072434]\n",
      "[ 9.04565239]\n",
      "[ 0.7055378]\n",
      "[ 9.08098125]\n",
      "[ 0.38092512]\n",
      "[ 9.10754299]\n",
      "[ 0.05941574]\n",
      "[ 9.11847591]\n",
      "[ 0.03959166]\n",
      "[ 9.12743568]\n",
      "[ 2.09465504]\n",
      "[ 9.18329048]\n",
      "[ 0.09946039]\n",
      "[ 9.19719028]\n",
      "[ 1.5513382]\n",
      "[ 9.24611664]\n",
      "[ 0.00216795]\n",
      "[ 9.24821854]\n",
      "[ 0.02760744]\n",
      "[ 9.24053478]\n",
      "[ 1.40635371]\n",
      "[ 9.28723717]\n",
      "[ 1.61369574]\n",
      "[ 9.3364687]\n",
      "[ 0.19876809]\n",
      "[ 9.31541252]\n",
      "[ 4.88330555]\n",
      "[ 9.39081478]\n",
      "[ 0.51309389]\n",
      "[ 9.42019272]\n",
      "[ 0.05429691]\n",
      "[ 9.40955257]\n",
      "[ 0.28364491]\n",
      "[ 9.43183422]\n",
      "[ 1.52466595]\n",
      "[ 9.47912312]\n",
      "[ 0.20069627]\n",
      "[ 9.49790478]\n",
      "[ 0.16447699]\n",
      "[ 9.51495647]\n",
      "[ 1.17687535]\n",
      "[ 9.55689621]\n",
      "[ 1.4331367]\n",
      "[ 9.60232162]\n",
      "[ 0.00289368]\n",
      "[ 9.5999651]\n",
      "[ 0.11876737]\n",
      "[ 9.58435917]\n",
      "[ 0.09068233]\n",
      "[ 9.59705067]\n",
      "[ 0.3713623]\n",
      "[ 9.56862545]\n",
      "[ 0.86087155]\n",
      "[ 9.60497761]\n",
      "[ 0.16824692]\n",
      "[ 9.62200642]\n",
      "[ 1.29094815]\n",
      "[ 9.66513729]\n",
      "[ 0.34093195]\n",
      "[ 9.63819027]\n",
      "[ 0.26874569]\n",
      "[ 9.61436367]\n",
      "[ 0.02666083]\n",
      "[ 9.62133217]\n",
      "[ 0.01132492]\n",
      "[ 9.61665154]\n",
      "[ 0.58591151]\n",
      "[ 9.64707565]\n",
      "[ 2.39948606]\n",
      "[ 9.70273209]\n",
      "[ 1.88632894]\n",
      "[ 9.7528944]\n",
      "[ 4.1058588]\n",
      "[ 9.64513111]\n",
      "[ 1.29082036]\n",
      "[ 9.58934593]\n",
      "[ 0.01775054]\n",
      "[ 9.59506798]\n",
      "[ 1.21216285]\n",
      "[ 9.63716984]\n"
     ]
    }
   ],
   "source": [
    "import tensorflow as tf\n",
    "import numpy as np\n",
    "# tensorflow 实现反向传播\n",
    "# 梯度下降算法\n",
    "# 创建会话\n",
    "sess=tf.Session()\n",
    "# 生成数据和占位符以及变量\n",
    "x_vals=np.random.normal(1,0.1,100)\n",
    "y_vals=np.repeat(10.,100)\n",
    "A=tf.Variable(np.array([1.],dtype=np.float32)) # A里面的东西是多少无所谓，重要的是格式要与下面对齐\n",
    "# A也可以是tf.Variable(tf.random_normal(shape=[1]))\n",
    "x_data=tf.placeholder(shape=[1],dtype=tf.float32)\n",
    "y_target=tf.placeholder(shape=[1],dtype=tf.float32)\n",
    "# 增加乘法操作\n",
    "my_output=tf.multiply(x_data,A)\n",
    "# L2 loss Function\n",
    "loss=tf.square(my_output-y_target)\n",
    "# initialize variables\n",
    "init=tf.initialize_all_variables()\n",
    "sess.run(init)\n",
    "# 声明迭代器\n",
    "my_opt=tf.train.GradientDescentOptimizer(learning_rate=0.02,)\n",
    "train_step=my_opt.minimize(loss)\n",
    "# 开始迭代\n",
    "for i in range(100):\n",
    "    rand_x=[x_vals[i]]\n",
    "    rand_y=[y_vals[i]]  # 注意这里需要打上[],保证这里的格式与上面的占位符格式一致\n",
    "    sess.run(train_step,feed_dict={x_data:rand_x,y_target:rand_y})\n",
    "    print(sess.run(loss,feed_dict={x_data:rand_x,y_target:rand_y}))\n",
    "    print(sess.run(A))"
   ]
  },
  {
   "cell_type": "code",
   "execution_count": 26,
   "metadata": {},
   "outputs": [
    {
     "name": "stdout",
     "output_type": "stream",
     "text": [
      "[  1.22012796e-06]\n",
      "[ 10.]\n",
      "[ 0.000842]\n",
      "[ 5.12666988]\n",
      "[ 0.00595928]\n",
      "[ 0.92221272]\n",
      "[ 0.23342586]\n",
      "[-0.46155047]\n",
      "[ 0.06578148]\n",
      "[-0.92820847]\n",
      "[ 0.20667773]\n",
      "[-1.17383599]\n",
      "[ 0.10399538]\n",
      "[-1.07303071]\n",
      "[ 0.13211007]\n",
      "[-1.06271219]\n",
      "[ 0.05044933]\n",
      "[-1.21432185]\n",
      "[ 0.13536093]\n",
      "[-1.08633387]\n"
     ]
    }
   ],
   "source": [
    "# 两次计算之间要进行重置\n",
    "from tensorflow.python.framework import  ops\n",
    "ops.reset_default_graph()\n",
    "# 新建一个图层\n",
    "sess=tf.Session()\n",
    "# 创建变量和数据\n",
    "x_vals=np.concatenate((np.random.normal(-1,1,50),np.random.normal(3,1,50)))\n",
    "y_vals=np.concatenate((np.repeat(0.,50),np.repeat(1.,50)))\n",
    "x_data=tf.placeholder(shape=[1],dtype=tf.float32)\n",
    "y_target=tf.placeholder(shape=[1],dtype=tf.float32)\n",
    "A=tf.Variable(np.array([10.],dtype=np.float32))\n",
    "# 转化函数\n",
    "my_output=tf.add(x_data,A)\n",
    "# 初始化\n",
    "init=tf.initialize_all_variables()\n",
    "sess.run(init)\n",
    "# 构建损失函数\n",
    "xentropy=tf.nn.sigmoid_cross_entropy_with_logits(labels=y_target,logits=my_output)\n",
    "# 构建迭代函数\n",
    "my_opt=tf.train.GradientDescentOptimizer(0.05)\n",
    "train_step=my_opt.minimize(xentropy)\n",
    "for i in range(2000):\n",
    "    rand_index=np.random.choice(100)\n",
    "    rand_x=[x_vals[rand_index]]\n",
    "    rand_y=[y_vals[rand_index]]  # 注意这里需要打上[],保证这里的格式与上面的占位符格式一致\n",
    "    sess.run(train_step,feed_dict={x_data:rand_x,y_target:rand_y})\n",
    "    if i%200==0:\n",
    "       print(sess.run(xentropy,feed_dict={x_data:rand_x,y_target:rand_y}))\n",
    "       print(sess.run(A))"
   ]
  },
  {
   "cell_type": "code",
   "execution_count": 40,
   "metadata": {},
   "outputs": [
    {
     "data": {
      "image/png": "[encoded data removed]",
      "text/plain": [
       "<matplotlib.figure.Figure at 0x19b4099e6a0>"
      ]
     },
     "metadata": {},
     "output_type": "display_data"
    }
   ],
   "source": [
    "# 多批量数据的操作\n",
    "# 两次计算之间要进行重置\n",
    "from tensorflow.python.framework import  ops\n",
    "ops.reset_default_graph()\n",
    "# 新建一个图层\n",
    "sess=tf.Session()\n",
    "# 批量大小\n",
    "batch_size=20\n",
    "# 声明数据，占位符和变量\n",
    "x_vals=np.random.normal(1.,0.1,100)\n",
    "y_vals=np.repeat(10.,100)\n",
    "x_data=tf.placeholder(shape=[None,1],dtype=tf.float32)\n",
    "y_target=tf.placeholder(shape=[None,1],dtype=tf.float32)\n",
    "A=tf.Variable(tf.random_normal([1,1]))\n",
    "# 声明数据\n",
    "my_output=tf.matmul(x_data,A)\n",
    "# 声明loss function---这里的loss不一定非要用mean用sum也可以\n",
    "loss=tf.reduce_mean(tf.square(my_output-y_target))\n",
    "# 变量初始化\n",
    "init=tf.initialize_all_variables()\n",
    "sess.run(init)\n",
    "# 声明迭代器\n",
    "my_opt=tf.train.GradientDescentOptimizer(0.02)\n",
    "train=my_opt.minimize(loss)\n",
    "# 初始化保存器\n",
    "loss_batch=[]\n",
    "# 开始迭代\n",
    "for i in range(100):\n",
    "    rand_index=np.random.choice(100,size=batch_size)\n",
    "    rand_x=np.transpose([x_vals[rand_index]])\n",
    "    rand_y=np.transpose([y_vals[rand_index]])\n",
    "    sess.run(train,feed_dict={x_data:rand_x,y_target:rand_y})\n",
    "    loss_batch.append(sess.run(loss,feed_dict={x_data:rand_x,y_target:rand_y}))\n",
    "# 随机训练---单次\n",
    "B=tf.Variable(np.array([1.],dtype=np.float32)) # A里面的东西是多少无所谓，重要的是格式要与下面对齐\n",
    "# A也可以是tf.Variable(tf.random_normal(shape=[1]))\n",
    "x_data2=tf.placeholder(shape=[1],dtype=tf.float32)\n",
    "y_target2=tf.placeholder(shape=[1],dtype=tf.float32)\n",
    "# 增加乘法操作\n",
    "my_output2=tf.multiply(x_data2,B)\n",
    "# L2 loss Function\n",
    "loss2=tf.square(my_output2-y_target2)\n",
    "# initialize variables\n",
    "init=tf.initialize_all_variables()\n",
    "sess.run(init)\n",
    "# 声明迭代器\n",
    "my_opt2=tf.train.GradientDescentOptimizer(learning_rate=0.02)\n",
    "train_step=my_opt.minimize(loss2)\n",
    "# 声明保存器\n",
    "loss_list=[]\n",
    "# 开始迭代\n",
    "for i in range(100):\n",
    "    rand_index=np.random.choice(100)\n",
    "    rand_x=[x_vals[rand_index]]\n",
    "    rand_y=[y_vals[rand_index]]  # 注意这里需要打上[],保证这里的格式与上面的占位符格式一致\n",
    "    sess.run(train_step,feed_dict={x_data2:rand_x,y_target2:rand_y})\n",
    "    loss_list.append(sess.run(loss2,feed_dict={x_data2:rand_x,y_target2:rand_y}))\n",
    "import matplotlib.pyplot  as  plt\n",
    "x=np.arange(100)\n",
    "plt.plot(x,loss_list,'b-',label='random train loss')\n",
    "plt.plot(x,loss_batch,'r--',label='batch train loss')\n",
    "plt.ylim(0,10)\n",
    "plt.legend(loc='lower right',prop={'size':9})\n",
    "plt.show()\n",
    "plt.close()\n",
    "# 从下图可以看出，batch train 可以更快的收敛，但是训练占用的内存较大，\n",
    "# 而random train占用资源较少"
   ]
  },
  {
   "cell_type": "code",
   "execution_count": 28,
   "metadata": {},
   "outputs": [
    {
     "name": "stdout",
     "output_type": "stream",
     "text": [
      "Help on function reduce_sum in module tensorflow.python.ops.math_ops:\n",
      "\n",
      "reduce_sum(input_tensor, axis=None, keep_dims=False, name=None, reduction_indices=None)\n",
      "    Computes the sum of elements across dimensions of a tensor.\n",
      "    \n",
      "    Reduces `input_tensor` along the dimensions given in `axis`.\n",
      "    Unless `keep_dims` is true, the rank of the tensor is reduced by 1 for each\n",
      "    entry in `axis`. If `keep_dims` is true, the reduced dimensions\n",
      "    are retained with length 1.\n",
      "    \n",
      "    If `axis` has no entries, all dimensions are reduced, and a\n",
      "    tensor with a single element is returned.\n",
      "    \n",
      "    For example:\n",
      "    \n",
      "    ```python\n",
      "    x = tf.constant([[1, 1, 1], [1, 1, 1]])\n",
      "    tf.reduce_sum(x)  # 6\n",
      "    tf.reduce_sum(x, 0)  # [2, 2, 2]\n",
      "    tf.reduce_sum(x, 1)  # [3, 3]\n",
      "    tf.reduce_sum(x, 1, keep_dims=True)  # [[3], [3]]\n",
      "    tf.reduce_sum(x, [0, 1])  # 6\n",
      "    ```\n",
      "    \n",
      "    Args:\n",
      "      input_tensor: The tensor to reduce. Should have numeric type.\n",
      "      axis: The dimensions to reduce. If `None` (the default),\n",
      "        reduces all dimensions. Must be in the range\n",
      "        `[-rank(input_tensor), rank(input_tensor))`.\n",
      "      keep_dims: If true, retains reduced dimensions with length 1.\n",
      "      name: A name for the operation (optional).\n",
      "      reduction_indices: The old (deprecated) name for axis.\n",
      "    \n",
      "    Returns:\n",
      "      The reduced tensor.\n",
      "    \n",
      "    @compatibility(numpy)\n",
      "    Equivalent to np.sum\n",
      "    @end_compatibility\n",
      "\n"
     ]
    }
   ],
   "source": [
    "# Tensorflow 创建一个分类器\n"
   ]
  }
 ],
 "metadata": {
  "kernelspec": {
   "display_name": "Python 3",
   "language": "python",
   "name": "python3"
  },
  "language_info": {
   "codemirror_mode": {
    "name": "ipython",
    "version": 3
   },
   "file_extension": ".py",
   "mimetype": "text/x-python",
   "name": "python",
   "nbconvert_exporter": "python",
   "pygments_lexer": "ipython3",
   "version": "3.6.2"
  }
 },
 "nbformat": 4,
 "nbformat_minor": 2
}

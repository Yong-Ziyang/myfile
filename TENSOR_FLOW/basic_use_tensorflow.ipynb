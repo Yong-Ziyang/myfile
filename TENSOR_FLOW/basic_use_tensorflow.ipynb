{
 "cells": [
  {
   "cell_type": "code",
   "execution_count": 1,
   "metadata": {},
   "outputs": [
    {
     "data": {
      "text/plain": [
       "<tf.Tensor 'zeros:0' shape=(4, 2) dtype=float32>"
      ]
     },
     "execution_count": 1,
     "metadata": {},
     "output_type": "execute_result"
    }
   ],
   "source": [
    "import tensorflow as tf\n",
    "# 所谓张量 即是向量之类的东西\n",
    "zero_tar=tf.zeros([4,2]) # 创建一个指定维度的零张量   \n",
    "zero_tar"
   ]
  },
  {
   "cell_type": "code",
   "execution_count": 2,
   "metadata": {},
   "outputs": [
    {
     "data": {
      "text/plain": [
       "<tf.Tensor 'ones:0' shape=(4, 2) dtype=float32>"
      ]
     },
     "execution_count": 2,
     "metadata": {},
     "output_type": "execute_result"
    }
   ],
   "source": [
    "ones_tar=tf.ones([4,2])\n",
    "ones_tar                # 创建一个指定维度的单位张量"
   ]
  },
  {
   "cell_type": "code",
   "execution_count": 3,
   "metadata": {},
   "outputs": [
    {
     "data": {
      "text/plain": [
       "<tf.Tensor 'Fill:0' shape=(4, 2) dtype=int32>"
      ]
     },
     "execution_count": 3,
     "metadata": {},
     "output_type": "execute_result"
    }
   ],
   "source": [
    "filled_tsr=tf.fill([4,2],42)\n",
    "filled_tsr               # 创建一个指定数值和维度的张量"
   ]
  },
  {
   "cell_type": "code",
   "execution_count": 4,
   "metadata": {},
   "outputs": [
    {
     "data": {
      "text/plain": [
       "<tf.Tensor 'Const:0' shape=(3,) dtype=int32>"
      ]
     },
     "execution_count": 4,
     "metadata": {},
     "output_type": "execute_result"
    }
   ],
   "source": [
    "constant_tsr=tf.constant([1,2,3])\n",
    "constant_tsr          # 创建一个指定的张量"
   ]
  },
  {
   "cell_type": "code",
   "execution_count": 5,
   "metadata": {},
   "outputs": [
    {
     "data": {
      "text/plain": [
       "<tf.Tensor 'Const_1:0' shape=(4, 2) dtype=int32>"
      ]
     },
     "execution_count": 5,
     "metadata": {},
     "output_type": "execute_result"
    }
   ],
   "source": [
    "constant_tsr2=tf.constant(42,shape=[4,2]) # 将42这个值广播为一个维度的张量\n",
    "constant_tsr2"
   ]
  },
  {
   "cell_type": "code",
   "execution_count": 6,
   "metadata": {},
   "outputs": [
    {
     "data": {
      "text/plain": [
       "<tf.Tensor 'zeros_like:0' shape=(3,) dtype=int32>"
      ]
     },
     "execution_count": 6,
     "metadata": {},
     "output_type": "execute_result"
    }
   ],
   "source": [
    "zeros_similar=tf.zeros_like(constant_tsr)\n",
    "zeros_similar                           #和其他用法均一致"
   ]
  },
  {
   "cell_type": "code",
   "execution_count": 7,
   "metadata": {},
   "outputs": [
    {
     "data": {
      "text/plain": [
       "array([[1, 1],\n",
       "       [1, 1],\n",
       "       [1, 1],\n",
       "       [1, 1]])"
      ]
     },
     "execution_count": 7,
     "metadata": {},
     "output_type": "execute_result"
    }
   ],
   "source": [
    "ones_similar=tf.ones_like(constant_tsr2)\n",
    "sess=tf.Session()\n",
    "sess.run(ones_similar)"
   ]
  },
  {
   "cell_type": "code",
   "execution_count": 8,
   "metadata": {},
   "outputs": [
    {
     "data": {
      "text/plain": [
       "array([ 0.,  1.,  2.,  3.,  4.,  5.,  6.,  7.,  8.,  9.], dtype=float32)"
      ]
     },
     "execution_count": 8,
     "metadata": {},
     "output_type": "execute_result"
    }
   ],
   "source": [
    "linear_tar=tf.linspace(start=0.0,stop=9.0,num=10)\n",
    "sess.run(linear_tar)"
   ]
  },
  {
   "cell_type": "code",
   "execution_count": 9,
   "metadata": {},
   "outputs": [
    {
     "data": {
      "text/plain": [
       "array([ 1,  4,  7, 10, 13])"
      ]
     },
     "execution_count": 9,
     "metadata": {},
     "output_type": "execute_result"
    }
   ],
   "source": [
    "inter_seq_tsr=tf.range(start=1,limit=15,delta=3)  # 起点，终点，间隔\n",
    "sess.run(inter_seq_tsr)"
   ]
  },
  {
   "cell_type": "code",
   "execution_count": 10,
   "metadata": {},
   "outputs": [
    {
     "data": {
      "text/plain": [
       "array([[ 0.11821878,  0.91465747,  0.1677177 ,  0.06378651],\n",
       "       [ 0.20189035,  0.44591415,  0.23518229,  0.62373424],\n",
       "       [ 0.1432569 ,  0.0280056 ,  0.99201751,  0.75315988],\n",
       "       [ 0.54813302,  0.52119255,  0.64114058,  0.39120078]], dtype=float32)"
      ]
     },
     "execution_count": 10,
     "metadata": {},
     "output_type": "execute_result"
    }
   ],
   "source": [
    "# 生成随机张量\n",
    "random_tsr=tf.random_uniform([4,4],minval=0,maxval=1)\n",
    "# 均匀分布随机数\n",
    "sess.run(random_tsr)"
   ]
  },
  {
   "cell_type": "code",
   "execution_count": 11,
   "metadata": {},
   "outputs": [
    {
     "data": {
      "text/plain": [
       "array([[-1.43455052,  0.39213485, -0.01074301, -0.33255076],\n",
       "       [ 0.28428105,  0.02104842, -0.3641279 , -2.38866258],\n",
       "       [ 1.35851133, -0.16535953, -2.11165786,  0.10194891],\n",
       "       [ 0.08155263,  0.71643656, -0.2318318 , -0.94899243]], dtype=float32)"
      ]
     },
     "execution_count": 11,
     "metadata": {},
     "output_type": "execute_result"
    }
   ],
   "source": [
    "normal_tsr=tf.random_normal([4,4],mean=0.0,stddev=1.0)\n",
    "sess.run(normal_tsr) # 正态分布随机数"
   ]
  },
  {
   "cell_type": "code",
   "execution_count": 12,
   "metadata": {},
   "outputs": [
    {
     "data": {
      "text/plain": [
       "array([[ 1.28116179,  1.67740583,  0.48432031,  0.41873261],\n",
       "       [-1.63807201, -0.68372387,  0.00463148,  0.08120879],\n",
       "       [ 0.96801615, -0.12451326,  1.27196467, -0.02374955],\n",
       "       [ 0.25810456, -1.37786174, -1.92500675, -0.55857962]], dtype=float32)"
      ]
     },
     "execution_count": 12,
     "metadata": {},
     "output_type": "execute_result"
    }
   ],
   "source": [
    "normal_tsr_truncated=tf.truncated_normal([4,4],mean=0.0,stddev=1.0)\n",
    "sess.run(normal_tsr_truncated)  # 带有边界的正态分布随机数，上下边界分别为以0为中心，以标准差扩散"
   ]
  },
  {
   "cell_type": "code",
   "execution_count": 13,
   "metadata": {},
   "outputs": [
    {
     "data": {
      "text/plain": [
       "array([[5, 6],\n",
       "       [3, 4],\n",
       "       [1, 2]])"
      ]
     },
     "execution_count": 13,
     "metadata": {},
     "output_type": "execute_result"
    }
   ],
   "source": [
    "tsr_mat1=tf.constant([[1,2],[3,4],[5,6]])\n",
    "shuffled_tsr=tf.random_shuffle(tsr_mat1)\n",
    "sess.run(shuffled_tsr)  # The tensor is shuffled along dimension 0"
   ]
  },
  {
   "cell_type": "code",
   "execution_count": 14,
   "metadata": {},
   "outputs": [
    {
     "data": {
      "text/plain": [
       "array([[2],\n",
       "       [4]])"
      ]
     },
     "execution_count": 14,
     "metadata": {},
     "output_type": "execute_result"
    }
   ],
   "source": [
    "crop_tsr=tf.random_crop(tsr_mat1,[2,1])\n",
    "sess.run(crop_tsr)  # 随机修剪-- Randomly crops a tensor to a given size."
   ]
  },
  {
   "cell_type": "code",
   "execution_count": 15,
   "metadata": {},
   "outputs": [],
   "source": [
    "# 封装张量作为变量\n",
    "my_var=tf.Variable(crop_tsr)"
   ]
  },
  {
   "cell_type": "code",
   "execution_count": 16,
   "metadata": {},
   "outputs": [
    {
     "data": {
      "text/plain": [
       "array([[ 1.,  2.,  3.],\n",
       "       [ 4.,  5.,  6.]])"
      ]
     },
     "execution_count": 16,
     "metadata": {},
     "output_type": "execute_result"
    }
   ],
   "source": [
    "# 其他创建张量方法-- Converts the given `value` to a `Tensor`.\n",
    "import numpy as np\n",
    "import pandas as pd\n",
    "convert_tsr=tf.convert_to_tensor(np.array([[1.0,2.0,3.0],[4.0,5.0,6.0]]))\n",
    "sess.run(convert_tsr)                            "
   ]
  },
  {
   "cell_type": "code",
   "execution_count": 17,
   "metadata": {},
   "outputs": [
    {
     "data": {
      "text/plain": [
       "array([[1, 4],\n",
       "       [2, 5],\n",
       "       [3, 6]], dtype=int64)"
      ]
     },
     "execution_count": 17,
     "metadata": {},
     "output_type": "execute_result"
    }
   ],
   "source": [
    "a=pd.DataFrame({'a':[1,2,3],'b':[4,5,6]})\n",
    "convert_tsr2=tf.convert_to_tensor(a)\n",
    "sess.run(convert_tsr2)  # pandas 依旧可以转化为tensor---in fact,the nature of Dataframes is ndarray"
   ]
  },
  {
   "cell_type": "code",
   "execution_count": 35,
   "metadata": {},
   "outputs": [
    {
     "name": "stdout",
     "output_type": "stream",
     "text": [
      "[[ 1.  1.  1.]\n",
      " [ 1.  1.  1.]]\n"
     ]
    }
   ],
   "source": [
    "my_var=tf.Variable(tf.ones([2,3]))\n",
    "sess=tf.Session()\n",
    "initialize_op=tf.global_variables_initializer() # 一次性将所有的变量初始化\n",
    "sess.run(initialize_op)\n",
    "print(sess.run(my_var))"
   ]
  },
  {
   "cell_type": "code",
   "execution_count": 31,
   "metadata": {},
   "outputs": [
    {
     "name": "stdout",
     "output_type": "stream",
     "text": [
      "[[-1.22533202 -0.16960561  0.27700996]\n",
      " [-0.23487584 -0.77124691 -0.0335144 ]]\n"
     ]
    },
    {
     "data": {
      "text/plain": [
       "<bound method BaseSession.close of <tensorflow.python.client.session.Session object at 0x0000023CC7997128>>"
      ]
     },
     "execution_count": 31,
     "metadata": {},
     "output_type": "execute_result"
    }
   ],
   "source": [
    "x=tf.placeholder(tf.float32,shape=[2,3])\n",
    "my_var=np.random.randn(2,3)\n",
    "sess=tf.Session()\n",
    "print(sess.run(x,{x:my_var}))\n",
    "sess.close"
   ]
  },
  {
   "cell_type": "code",
   "execution_count": 38,
   "metadata": {},
   "outputs": [],
   "source": [
    "sess=tf.Session()\n",
    "var1=tf.Variable(tf.zeros([2,3]))\n",
    "sess.run(var1.initializer)\n",
    "var2=tf.Variable(tf.ones([2,3]))\n",
    "sess.run(var2.initializer)"
   ]
  },
  {
   "cell_type": "code",
   "execution_count": 53,
   "metadata": {},
   "outputs": [
    {
     "name": "stdout",
     "output_type": "stream",
     "text": [
      "[[ 1.21934915  0.29650414 -0.27248022]\n",
      " [-0.00297498  0.93345106 -0.54902333]]\n"
     ]
    }
   ],
   "source": [
    "identify_mat=tf.diag([1.0,1.0,1.0])\n",
    "a=tf.truncated_normal([2,3],mean=0,stddev=1)\n",
    "b=tf.random_normal([3,2],mean=0,stddev=1)\n",
    "c=tf.random_uniform([3,2],minval=0,maxval=1)\n",
    "d=tf.convert_to_tensor([[1.0,2.0,3.0],[29.0,5.0,6.0],[11.0,23.0,1.0]])\n",
    "sess=tf.Session()\n",
    "print(sess.run(a))"
   ]
  },
  {
   "cell_type": "code",
   "execution_count": 44,
   "metadata": {},
   "outputs": [
    {
     "data": {
      "text/plain": [
       "array([[-0.38959336,  0.93554473],\n",
       "       [ 0.18986937, -0.30859888],\n",
       "       [-0.20422764,  0.09858662]], dtype=float32)"
      ]
     },
     "execution_count": 44,
     "metadata": {},
     "output_type": "execute_result"
    }
   ],
   "source": [
    "sess.run(b)"
   ]
  },
  {
   "cell_type": "code",
   "execution_count": 45,
   "metadata": {},
   "outputs": [
    {
     "data": {
      "text/plain": [
       "array([[ 2.98514891,  0.69409645],\n",
       "       [ 0.25051093,  0.54356903],\n",
       "       [-0.46887994,  2.02087855]], dtype=float32)"
      ]
     },
     "execution_count": 45,
     "metadata": {},
     "output_type": "execute_result"
    }
   ],
   "source": [
    "sess.run(b+c)"
   ]
  },
  {
   "cell_type": "code",
   "execution_count": 47,
   "metadata": {},
   "outputs": [
    {
     "data": {
      "text/plain": [
       "array([[-1.80080128, -0.18422931],\n",
       "       [-0.89724398,  0.01839428]], dtype=float32)"
      ]
     },
     "execution_count": 47,
     "metadata": {},
     "output_type": "execute_result"
    }
   ],
   "source": [
    "sess.run(tf.matmul(a,b)) # 矩阵相乘"
   ]
  },
  {
   "cell_type": "code",
   "execution_count": 48,
   "metadata": {},
   "outputs": [
    {
     "data": {
      "text/plain": [
       "array([[ 0.19051886,  0.75454307,  0.7982403 ],\n",
       "       [ 0.06871426,  0.08479762,  0.86700439]], dtype=float32)"
      ]
     },
     "execution_count": 48,
     "metadata": {},
     "output_type": "execute_result"
    }
   ],
   "source": [
    "sess.run(tf.transpose(c))"
   ]
  },
  {
   "cell_type": "code",
   "execution_count": 49,
   "metadata": {},
   "outputs": [
    {
     "data": {
      "text/plain": [
       "102.0"
      ]
     },
     "execution_count": 49,
     "metadata": {},
     "output_type": "execute_result"
    }
   ],
   "source": [
    "sess.run(tf.matrix_determinant(d)) # 计算行列书----行列相同"
   ]
  },
  {
   "cell_type": "code",
   "execution_count": 51,
   "metadata": {},
   "outputs": [
    {
     "data": {
      "text/plain": [
       "array([[  9.99999821e-01,  -5.96046448e-08,  -4.37721610e-07],\n",
       "       [  1.19209290e-07,   1.00000000e+00,   1.78813934e-07],\n",
       "       [  0.00000000e+00,   5.96046448e-08,   1.00000000e+00]], dtype=float32)"
      ]
     },
     "execution_count": 51,
     "metadata": {},
     "output_type": "execute_result"
    }
   ],
   "source": [
    "sess.run(tf.matmul(tf.matrix_inverse(d),d))"
   ]
  },
  {
   "cell_type": "code",
   "execution_count": 52,
   "metadata": {},
   "outputs": [
    {
     "data": {
      "text/plain": [
       "(array([-21.52838326,  -1.36581075,  29.89419174], dtype=float32),\n",
       " array([[ 0.25730264, -0.90300137,  0.344069  ],\n",
       "        [ 0.61057723,  0.4278985 ,  0.66640675],\n",
       "        [-0.74899304,  0.03861243,  0.6614517 ]], dtype=float32))"
      ]
     },
     "execution_count": 52,
     "metadata": {},
     "output_type": "execute_result"
    }
   ],
   "source": [
    "sess.run(tf.self_adjoint_eig(d)) # 计算特征值和特征向量"
   ]
  },
  {
   "cell_type": "code",
   "execution_count": 55,
   "metadata": {},
   "outputs": [
    {
     "data": {
      "text/plain": [
       "array([[ 1.,  0.,  0.],\n",
       "       [ 0.,  1.,  0.],\n",
       "       [ 0.,  0.,  1.]], dtype=float32)"
      ]
     },
     "execution_count": 55,
     "metadata": {},
     "output_type": "execute_result"
    }
   ],
   "source": [
    "sess.run(tf.cholesky(identify_mat))"
   ]
  },
  {
   "cell_type": "code",
   "execution_count": null,
   "metadata": {},
   "outputs": [],
   "source": []
  }
 ],
 "metadata": {
  "kernelspec": {
   "display_name": "Python 3",
   "language": "python",
   "name": "python3"
  },
  "language_info": {
   "codemirror_mode": {
    "name": "ipython",
    "version": 3
   },
   "file_extension": ".py",
   "mimetype": "text/x-python",
   "name": "python",
   "nbconvert_exporter": "python",
   "pygments_lexer": "ipython3",
   "version": "3.6.2"
  }
 },
 "nbformat": 4,
 "nbformat_minor": 2
}

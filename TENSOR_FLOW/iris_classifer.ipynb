{
 "cells": [
  {
   "cell_type": "code",
   "execution_count": 1,
   "metadata": {},
   "outputs": [
    {
     "name": "stdout",
     "output_type": "stream",
     "text": [
      "WARNING:tensorflow:From c:\\users\\yzy\\appdata\\local\\programs\\python\\python36\\lib\\site-packages\\tensorflow\\python\\util\\tf_should_use.py:107: initialize_all_variables (from tensorflow.python.ops.variables) is deprecated and will be removed after 2017-03-02.\n",
      "Instructions for updating:\n",
      "Use `tf.global_variables_initializer` instead.\n"
     ]
    }
   ],
   "source": [
    "import matplotlib.pyplot as plt\n",
    "import numpy as np\n",
    "import tensorflow as tf\n",
    "from sklearn import datasets\n",
    "sess=tf.Session()\n",
    "iris=datasets.load_iris()\n",
    "# 只需要花瓣的长度和宽度，也就是第三列和第四列\n",
    "iris_petal=np.array([[x[2],x[3]] for x in iris.data])\n",
    "# 并不认为上面这种方式很好\n",
    "iris_petal=iris.data[:,2:]\n",
    "# 个人倾向于这种\n",
    "# 将三种结果分为两类\n",
    "binary_target=np.array([1. if x==0 else 0. for x in iris.target])\n",
    "# 不认同上面这种做法\n",
    "binary_target=np.where(iris.target==0.,1.,0.)\n",
    "# 声明批量训练大小，数据占位符，模型变量\n",
    "batch_size=20\n",
    "x1_data=tf.placeholder(shape=[None,1],dtype=tf.float32)\n",
    "x2_data=tf.placeholder(shape=[None,1],dtype=tf.float32)\n",
    "y_target=tf.placeholder(shape=[None,1],dtype=tf.float32)\n",
    "A=tf.Variable(np.array([[1.]],dtype=np.float32))\n",
    "b=tf.Variable(np.array([[1.]],dtype=np.float32))\n",
    "# 声明计算公式\n",
    "mul_1=tf.matmul(x2_data,A)\n",
    "add_1=tf.add(mul_1,b)\n",
    "estimate_y=tf.add(add_1,x1_data)\n",
    "# 声明损失函数\n",
    "loss=tf.reduce_mean(tf.nn.sigmoid_cross_entropy_with_logits(labels=y_target,logits=estimate_y))\n",
    "# 声明迭代器\n",
    "train_gd=tf.train.GradientDescentOptimizer(0.05)\n",
    "train_value=train_gd.minimize(loss)\n",
    "# 初始化变量\n",
    "init=tf.initialize_all_variables()\n",
    "sess.run(init)\n",
    "# 声明容器用于存储变量\n",
    "A_list=[]\n",
    "b_list=[]\n",
    "loss_list=[]\n",
    "# 开始迭代\n",
    "for i in range(1000):\n",
    "    train_num=np.random.choice(150,size=batch_size)\n",
    "    x1_train=iris_petal[train_num,:1]\n",
    "    x2_train=iris_petal[train_num,1:]\n",
    "    y_train=np.array([binary_target[train_num]]).T\n",
    "    sess.run(train_value,feed_dict={x1_data:x1_train,x2_data:x2_train,y_target:y_train})\n",
    "    [[A1]]=sess.run(A)\n",
    "    [[b1]]=sess.run(b)\n",
    "    A_list.append(A1)\n",
    "    b_list.append(b1)\n",
    "    loss_list.append(sess.run(loss,feed_dict={x1_data:x1_train,x2_data:x2_train,y_target:y_train}))"
   ]
  },
  {
   "cell_type": "code",
   "execution_count": 2,
   "metadata": {},
   "outputs": [
    {
     "data": {
      "image/png": "[encoded data removed]",
      "text/plain": [
       "<matplotlib.figure.Figure at 0x20b76feee80>"
      ]
     },
     "metadata": {},
     "output_type": "display_data"
    }
   ],
   "source": [
    "# 1000次迭代的LOSS FUNCTION结果\n",
    "xrange=np.arange(1000)\n",
    "plt.plot(xrange,loss_list,'k-',label='Loss')\n",
    "plt.show()"
   ]
  },
  {
   "cell_type": "code",
   "execution_count": 3,
   "metadata": {},
   "outputs": [
    {
     "data": {
      "image/png": "[encoded data removed]",
      "text/plain": [
       "<matplotlib.figure.Figure at 0x20b76ecf748>"
      ]
     },
     "metadata": {},
     "output_type": "display_data"
    }
   ],
   "source": [
    "# 分类结果\n",
    "[[slope]]=sess.run(A) # 真黑科技！！！！！！！\n",
    "[[intercept]]=sess.run(b)\n",
    "x=np.linspace(0,3,num=100)\n",
    "line=-slope*x-intercept\n",
    "setorapoint_y=iris_petal[binary_target==1.,0]\n",
    "setorapoint_x=iris_petal[binary_target==1.,1]\n",
    "nonsetorapoint_y=iris_petal[binary_target==0.,0]\n",
    "nonsetorapoint_x=iris_petal[binary_target==0.,1]\n",
    "plt.plot(setorapoint_x,setorapoint_y,'bx',ms=10,mew=2,label='setosa')\n",
    "plt.plot(nonsetorapoint_x,nonsetorapoint_y,'ro',label='non-setosa')\n",
    "plt.plot(x,line,'k-',label='Linear-classify')\n",
    "plt.ylim([0.0,7.0])\n",
    "plt.xlabel('petal length')\n",
    "plt.ylabel('petal width')\n",
    "plt.show()\n",
    "plt.close()"
   ]
  },
  {
   "cell_type": "code",
   "execution_count": 4,
   "metadata": {},
   "outputs": [
    {
     "data": {
      "text/plain": [
       "[4, 16]"
      ]
     },
     "execution_count": 4,
     "metadata": {},
     "output_type": "execute_result"
    }
   ],
   "source": [
    "# Attention\n",
    "# python 的一种用法，这种用法只能在内部使用\n",
    "# 而且似乎只能在list里面使用\n",
    "[x**2 for x in [1,2,3,4,5] if x%2==0]"
   ]
  },
  {
   "cell_type": "code",
   "execution_count": null,
   "metadata": {},
   "outputs": [],
   "source": []
  },
  {
   "cell_type": "code",
   "execution_count": null,
   "metadata": {},
   "outputs": [],
   "source": []
  },
  {
   "cell_type": "code",
   "execution_count": 7,
   "metadata": {},
   "outputs": [],
   "source": []
  }
 ],
 "metadata": {
  "kernelspec": {
   "display_name": "Python 3",
   "language": "python",
   "name": "python3"
  },
  "language_info": {
   "codemirror_mode": {
    "name": "ipython",
    "version": 3
   },
   "file_extension": ".py",
   "mimetype": "text/x-python",
   "name": "python",
   "nbconvert_exporter": "python",
   "pygments_lexer": "ipython3",
   "version": "3.6.2"
  }
 },
 "nbformat": 4,
 "nbformat_minor": 2
}

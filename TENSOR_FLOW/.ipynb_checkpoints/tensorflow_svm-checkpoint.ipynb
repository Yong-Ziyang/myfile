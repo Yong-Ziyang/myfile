{
 "cells": [
  {
   "cell_type": "code",
   "execution_count": 48,
   "metadata": {},
   "outputs": [],
   "source": [
    "import tensorflow as tf\n",
    "import sklearn.datasets as data\n",
    "import matplotlib.pyplot as plt\n",
    "import numpy as np\n",
    "import pandas as pd\n",
    "from pandas import DataFrame,Series"
   ]
  },
  {
   "cell_type": "code",
   "execution_count": 101,
   "metadata": {},
   "outputs": [],
   "source": [
    "# 查看数据\n",
    "# 开始进行线性支持向量机代码工作\n",
    "# 创建会话\n",
    "sess=tf.Session()\n",
    "# 导入数据\n",
    "iris=data.load_iris()\n",
    "iris_data=iris.data\n",
    "iris_label=iris.target\n",
    "dataexlabel=iris_data[:,[0,3]]\n",
    "iris_label=np.array([iris_label]).T"
   ]
  },
  {
   "cell_type": "code",
   "execution_count": 102,
   "metadata": {},
   "outputs": [],
   "source": [
    "# 二分类转化\n",
    "iris_label=np.where(iris_label==0,1,-1)\n",
    "# 分割测试集和训练集\n",
    "testix=np.random.choice(150,round(len(iris.target)*0.2))\n",
    "trainix=np.setdiff1d(range(150),testix)\n",
    "trainexlabel=dataexlabel[trainix,:]\n",
    "trainlabel=iris_label[trainix]\n",
    "testexlabel=dataexlabel[testix,:]\n",
    "testlabel=iris_label[testix]"
   ]
  },
  {
   "cell_type": "code",
   "execution_count": 110,
   "metadata": {},
   "outputs": [],
   "source": [
    "# 设置模型的占位符，变量\n",
    "batch=20\n",
    "w=tf.Variable(tf.random_normal(shape=[2,1]))\n",
    "b=tf.Variable(tf.random_normal(shape=[1,1]))\n",
    "xdata=tf.placeholder(shape=[None,2],dtype=tf.float32)\n",
    "ydata=tf.placeholder(shape=[None,1],dtype=tf.float32)\n",
    "lam=tf.constant(0.1)\n",
    "# 构建计算式子\n",
    "functiondis=tf.multiply(tf.add(tf.matmul(xdata,w),b),ydata)\n",
    "loss=tf.reduce_mean(tf.maximum(0.,tf.subtract(1.,functiondis)))+lam*(tf.matmul(tf.matrix_transpose(w),w))\n",
    "# 分类器\n",
    "predictmodel=tf.sign(tf.add(tf.matmul(xdata,w),b))\n",
    "predictaccuracy=tf.reduce_mean(tf.cast(tf.equal(predictmodel,ydata),dtype=tf.float32))"
   ]
  },
  {
   "cell_type": "code",
   "execution_count": 113,
   "metadata": {},
   "outputs": [],
   "source": [
    "# 初始化与梯度下降\n",
    "myoutput=tf.train.GradientDescentOptimizer(0.01)\n",
    "train_step=myoutput.minimize(loss)\n",
    "init=tf.global_variables_initializer()\n",
    "sess.run(init)"
   ]
  },
  {
   "cell_type": "code",
   "execution_count": 112,
   "metadata": {},
   "outputs": [],
   "source": [
    "# 定义一些容器\n",
    "loss_container=[]\n",
    "train_accuracy=[]\n",
    "test_accuracy=[]"
   ]
  },
  {
   "cell_type": "code",
   "execution_count": 114,
   "metadata": {},
   "outputs": [],
   "source": [
    "# 开始迭代\n",
    "for i in range(500):\n",
    "    randix=np.random.choice(len(trainexlabel),size=batch)\n",
    "    xrand=trainexlabel[randix,:]\n",
    "    yrand=trainlabel[randix,:]\n",
    "    sess.run(train_step,feed_dict={xdata:xrand,ydata:yrand})\n",
    "    loss_container.append(sess.run(loss,feed_dict={xdata:xrand,ydata:yrand}))\n",
    "    train_accuracy.append(sess.run(predictaccuracy,feed_dict={xdata:trainexlabel,ydata:trainlabel}))\n",
    "    test_accuracy.append(sess.run(predictaccuracy,feed_dict={xdata:testexlabel,ydata:testlabel}))"
   ]
  },
  {
   "cell_type": "code",
   "execution_count": 115,
   "metadata": {},
   "outputs": [
    {
     "data": {
      "text/plain": [
       "array([[ 0.08449604],\n",
       "       [-0.64434713]], dtype=float32)"
      ]
     },
     "execution_count": 115,
     "metadata": {},
     "output_type": "execute_result"
    }
   ],
   "source": [
    "slope=sess.run(w)\n",
    "[[intercept]]=sess.run(b)\n",
    "slope"
   ]
  },
  {
   "cell_type": "code",
   "execution_count": 116,
   "metadata": {},
   "outputs": [
    {
     "data": {
      "image/png": "[encoded data removed]",
      "text/plain": [
       "<matplotlib.figure.Figure at 0x25c21b5f400>"
      ]
     },
     "metadata": {},
     "output_type": "display_data"
    }
   ],
   "source": [
    "# 画图\n",
    "x=np.arange(500)\n",
    "plt.plot(x,train_accuracy,'k-.',label='train accuracy')\n",
    "plt.plot(x,test_accuracy,'r--',label='test accuracy')\n",
    "plt.legend(loc='lower left')\n",
    "plt.show()\n",
    "plt.close()"
   ]
  }
 ],
 "metadata": {
  "kernelspec": {
   "display_name": "Python 3",
   "language": "python",
   "name": "python3"
  },
  "language_info": {
   "codemirror_mode": {
    "name": "ipython",
    "version": 3
   },
   "file_extension": ".py",
   "mimetype": "text/x-python",
   "name": "python",
   "nbconvert_exporter": "python",
   "pygments_lexer": "ipython3",
   "version": "3.6.2"
  }
 },
 "nbformat": 4,
 "nbformat_minor": 2
}

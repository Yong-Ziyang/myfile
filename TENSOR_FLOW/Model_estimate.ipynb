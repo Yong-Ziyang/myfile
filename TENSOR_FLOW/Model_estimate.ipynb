{
 "cells": [
  {
   "cell_type": "code",
   "execution_count": 44,
   "metadata": {},
   "outputs": [],
   "source": [
    "# 回归模型的检验\n",
    "# Import Moudle\n",
    "import numpy as np\n",
    "import tensorflow as tf\n",
    "import matplotlib.pyplot as plt\n",
    "# 创建对话\n",
    "sess=tf.Session()\n",
    "# 构建数据\n",
    "x_vals=np.random.normal(1.,0.1,100)\n",
    "y_vals=np.repeat(10.,100)\n",
    "np.random.seed(10)  # 设置一个随机数种子\n",
    "index_train=np.random.choice(len(x_vals),size=round(len(x_vals)*0.7)) # 这里用round比np.round好\n",
    "index_test=np.setdiff1d(np.arange(100),index_train)\n",
    "x_train=x_vals[index_train]\n",
    "y_train=y_vals[index_train]\n",
    "x_test=x_vals[index_test]\n",
    "y_test=y_vals[index_test]\n",
    "# 构建占位符，变量,批量大小\n",
    "batch_size=20\n",
    "x_data=tf.placeholder(shape=[None,1],dtype=tf.float32)\n",
    "y_data=tf.placeholder(shape=[None,1],dtype=tf.float32)\n",
    "A=tf.Variable(tf.random_normal(shape=[1,1]))\n",
    "# 构建计算符\n",
    "mul=tf.matmul(x_data,A)\n",
    "# 构建loss function\n",
    "loss=tf.reduce_mean(tf.square(mul-y_data))\n",
    "# 构建iteration machine\n",
    "iter_machine=tf.train.GradientDescentOptimizer(0.05)\n",
    "train_step=iter_machine.minimize(loss)\n",
    "# 初始化变量\n",
    "init=tf.global_variables_initializer()\n",
    "sess.run(init)\n",
    "# 开始迭代\n",
    "for i in range(100):\n",
    "    iter_index=np.random.choice(len(x_train),size=batch_size)\n",
    "    x_vals_iter=np.transpose([x_train[iter_index]])\n",
    "    y_vals_iter=np.transpose([y_train[iter_index]])\n",
    "    sess.run(train_step,feed_dict={x_data:x_vals_iter,y_data:y_vals_iter})"
   ]
  },
  {
   "cell_type": "code",
   "execution_count": 47,
   "metadata": {},
   "outputs": [
    {
     "data": {
      "text/plain": [
       "0.66929311"
      ]
     },
     "execution_count": 47,
     "metadata": {},
     "output_type": "execute_result"
    }
   ],
   "source": [
    "# 分别查看最终模型的测试集和训练集的准确度\n",
    "# 训练集--最终的分类准确度\n",
    "sess.run(loss,feed_dict={x_data:np.transpose([x_train]),y_data:np.transpose([y_train])})"
   ]
  },
  {
   "cell_type": "code",
   "execution_count": 49,
   "metadata": {},
   "outputs": [
    {
     "data": {
      "text/plain": [
       "1.079129"
      ]
     },
     "execution_count": 49,
     "metadata": {},
     "output_type": "execute_result"
    }
   ],
   "source": [
    "# 测试集---最终的分类准确度\n",
    "sess.run(loss,feed_dict={x_data:np.transpose([x_test]),y_data:np.transpose([y_test])})"
   ]
  },
  {
   "cell_type": "code",
   "execution_count": 69,
   "metadata": {},
   "outputs": [],
   "source": [
    "# 分类模型的检验\n",
    "import matplotlib.pyplot as plt\n",
    "import numpy as np\n",
    "import tensorflow as tf\n",
    "from sklearn import datasets\n",
    "# 数据集处理\n",
    "iris=datasets.load_iris()\n",
    "# 只需要花瓣的长度和宽度，也就是第三列和第四列\n",
    "iris_petal=iris.data[:,2:]\n",
    "# 将三种结果分为两类\n",
    "binary_target=np.where(iris.target==0.,1.,0.)\n",
    "# 生成train and test\n",
    "np.random.seed(10)\n",
    "train_index=np.random.choice(len(binary_target),size=round(len(binary_target)*0.7))\n",
    "test_index=np.setdiff1d(range(len(binary_target)),train_index)\n",
    "iris_petal_train=iris_petal[train_index]\n",
    "iris_petal_test=iris_petal[test_index]\n",
    "target_train=binary_target[train_index]\n",
    "target_test=binary_target[test_index]\n",
    "# 创建新视图\n",
    "sess=tf.Session()\n",
    "# 声明批量训练大小，数据占位符，模型变量\n",
    "batch_size=20\n",
    "x1_data=tf.placeholder(shape=[None,1],dtype=tf.float32)\n",
    "x2_data=tf.placeholder(shape=[None,1],dtype=tf.float32)\n",
    "y_target=tf.placeholder(shape=[None,1],dtype=tf.float32)\n",
    "A=tf.Variable(np.array([[1.]],dtype=np.float32))\n",
    "b=tf.Variable(np.array([[1.]],dtype=np.float32))\n",
    "# 声明计算公式\n",
    "mul_1=tf.matmul(x2_data,A)\n",
    "add_1=tf.add(mul_1,b)\n",
    "estimate_y=tf.add(add_1,x1_data)\n",
    "# 声明损失函数\n",
    "loss=tf.reduce_mean(tf.nn.sigmoid_cross_entropy_with_logits(labels=y_target,logits=estimate_y))\n",
    "# 声明迭代器\n",
    "train_gd=tf.train.GradientDescentOptimizer(0.05)\n",
    "train_value=train_gd.minimize(loss)\n",
    "# 初始化变量\n",
    "init=tf.initialize_all_variables()\n",
    "sess.run(init)\n",
    "# 开始迭代\n",
    "for i in range(1000):\n",
    "    train_num=np.random.choice(len(target_train),size=batch_size)\n",
    "    x1_train=iris_petal_train[train_num,:1]\n",
    "    x2_train=iris_petal_train[train_num,1:]\n",
    "    y_train=np.transpose([target_train[train_num]])\n",
    "    sess.run(train_value,feed_dict={x1_data:x1_train,x2_data:x2_train,y_target:y_train})"
   ]
  },
  {
   "cell_type": "code",
   "execution_count": 56,
   "metadata": {},
   "outputs": [
    {
     "data": {
      "text/plain": [
       "0.1501403"
      ]
     },
     "execution_count": 56,
     "metadata": {},
     "output_type": "execute_result"
    }
   ],
   "source": [
    "# 训练集的一些loss\n",
    "sess.run(loss,feed_dict={x1_data:iris_petal_train[:,:1],x2_data:iris_petal_train[:,1:],y_target:np.transpose([target_train])})"
   ]
  },
  {
   "cell_type": "code",
   "execution_count": 57,
   "metadata": {},
   "outputs": [
    {
     "data": {
      "text/plain": [
       "0.13082734"
      ]
     },
     "execution_count": 57,
     "metadata": {},
     "output_type": "execute_result"
    }
   ],
   "source": [
    "# 测试集的一些loss\n",
    "sess.run(loss,feed_dict={x1_data:iris_petal_test[:,:1],x2_data:iris_petal_test[:,1:],y_target:np.transpose([target_test])})"
   ]
  },
  {
   "cell_type": "code",
   "execution_count": 74,
   "metadata": {},
   "outputs": [
    {
     "data": {
      "text/plain": [
       "array([ 1.,  0.,  1.,  0.,  0.,  0.,  0.,  1.,  0.,  1.,  1.,  0.,  1.,\n",
       "        0.,  0.,  0.,  0.,  0.,  0.,  0.,  1.,  0.,  0.,  0.,  1.,  0.,\n",
       "        0.,  0.,  0.,  1.,  0.,  0.,  0.,  1.,  0.,  1.,  1.,  1.,  0.,\n",
       "        0.,  0.,  0.,  0.,  0.,  1.,  1.,  0.,  0.,  0.,  0.,  0.,  0.,\n",
       "        1.,  1.,  0.,  1.,  0.,  1.,  0.,  0.,  0.,  0.,  0.,  1.,  0.,\n",
       "        1.,  0.,  0.,  0.,  0.,  1.,  0.,  1.,  0.,  0.,  0.,  1.,  0.,\n",
       "        0.,  0.,  1.,  0.,  0.,  1.,  1.,  1.,  1.,  0.,  0.,  0.,  1.,\n",
       "        0.,  0.,  1.,  0.,  0.,  1.,  0.,  1.,  0.,  1.,  1.,  0.,  0.,  0.], dtype=float32)"
      ]
     },
     "execution_count": 74,
     "metadata": {},
     "output_type": "execute_result"
    }
   ],
   "source": [
    "# 但是实际上我们不是想要sigmoid函数的loss，我们想看分类的正确性\n",
    "# 构建占位符，常量\n",
    "slope=tf.constant(sess.run(A))\n",
    "intercept=tf.constant(sess.run(b))\n",
    "x1_data=tf.placeholder(shape=[None,1],dtype=tf.float32)\n",
    "x2_data=tf.placeholder(shape=[None,1],dtype=tf.float32)\n",
    "y_target=tf.placeholder(shape=[None,1],dtype=tf.float32)\n",
    "# 构建计算器\n",
    "sigmoid=tf.squeeze(tf.round(tf.nn.sigmoid(x1_data+slope*x2_data+intercept)))"
   ]
  },
  {
   "cell_type": "code",
   "execution_count": 83,
   "metadata": {},
   "outputs": [
    {
     "data": {
      "text/html": [
       "<div>\n",
       "<style>\n",
       "    .dataframe thead tr:only-child th {\n",
       "        text-align: right;\n",
       "    }\n",
       "\n",
       "    .dataframe thead th {\n",
       "        text-align: left;\n",
       "    }\n",
       "\n",
       "    .dataframe tbody tr th {\n",
       "        vertical-align: top;\n",
       "    }\n",
       "</style>\n",
       "<table border=\"1\" class=\"dataframe\">\n",
       "  <thead>\n",
       "    <tr style=\"text-align: right;\">\n",
       "      <th>true_data</th>\n",
       "      <th>0.0</th>\n",
       "      <th>1.0</th>\n",
       "    </tr>\n",
       "    <tr>\n",
       "      <th>forcast</th>\n",
       "      <th></th>\n",
       "      <th></th>\n",
       "    </tr>\n",
       "  </thead>\n",
       "  <tbody>\n",
       "    <tr>\n",
       "      <th>0.0</th>\n",
       "      <td>70</td>\n",
       "      <td>0</td>\n",
       "    </tr>\n",
       "    <tr>\n",
       "      <th>1.0</th>\n",
       "      <td>0</td>\n",
       "      <td>35</td>\n",
       "    </tr>\n",
       "  </tbody>\n",
       "</table>\n",
       "</div>"
      ],
      "text/plain": [
       "true_data  0.0  1.0\n",
       "forcast            \n",
       "0.0         70    0\n",
       "1.0          0   35"
      ]
     },
     "execution_count": 83,
     "metadata": {},
     "output_type": "execute_result"
    }
   ],
   "source": [
    "# 训练集误差\n",
    "forcast_train=sess.run(sigmoid,feed_dict={x1_data:iris_petal_train[:,:1],x2_data:iris_petal_train[:,1:]})\n",
    "import pandas as pd\n",
    "from pandas import DataFrame,Series\n",
    "df_train=DataFrame({'forcast':forcast_train,'true_data':target_train})\n",
    "pd.crosstab(df_train.forcast,df_train.true_data)"
   ]
  },
  {
   "cell_type": "code",
   "execution_count": null,
   "metadata": {},
   "outputs": [],
   "source": [
    "# 测试集误差\n",
    "forcast_test=sess.run(sigmoid,feed_dict={x1_data:iris_petal_test[:,:1],x2_data:iris_petal_test[:,1:]})\n",
    "import pandas as pd\n",
    "from pandas import DataFrame,Series\n",
    "df_test=DataFrame({'forcast':forcast_test,'true_data':target_test})\n",
    "pd.crosstab(df_test.forcast,df_tr.true_data)"
   ]
  },
  {
   "cell_type": "code",
   "execution_count": null,
   "metadata": {},
   "outputs": [],
   "source": []
  },
  {
   "cell_type": "code",
   "execution_count": null,
   "metadata": {},
   "outputs": [],
   "source": []
  }
 ],
 "metadata": {
  "kernelspec": {
   "display_name": "Python 3",
   "language": "python",
   "name": "python3"
  },
  "language_info": {
   "codemirror_mode": {
    "name": "ipython",
    "version": 3
   },
   "file_extension": ".py",
   "mimetype": "text/x-python",
   "name": "python",
   "nbconvert_exporter": "python",
   "pygments_lexer": "ipython3",
   "version": "3.6.2"
  }
 },
 "nbformat": 4,
 "nbformat_minor": 2
}

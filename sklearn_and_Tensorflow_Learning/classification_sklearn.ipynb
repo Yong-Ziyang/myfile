{
 "cells": [
  {
   "cell_type": "code",
   "execution_count": 1,
   "metadata": {
    "collapsed": true
   },
   "outputs": [],
   "source": [
    "# 使用MNIST数据集，MNIST相当于是机器学习界的helloworld\n",
    "import sklearn \n",
    "import numpy as np\n",
    "import pandas as pd\n",
    "from sklearn.datasets import fetch_mldata\n",
    "#mnist=fetch_mldata('mnist-original', data_home='C:/Users/yzy/Desktop/MNIST_DATA')  这个方法暂时拿不到mnist"
   ]
  },
  {
   "cell_type": "code",
   "execution_count": 2,
   "metadata": {},
   "outputs": [
    {
     "name": "stdout",
     "output_type": "stream",
     "text": [
      "Extracting MNIST\\train-images-idx3-ubyte.gz\n",
      "Extracting MNIST\\train-labels-idx1-ubyte.gz\n",
      "Extracting MNIST\\t10k-images-idx3-ubyte.gz\n",
      "Extracting MNIST\\t10k-labels-idx1-ubyte.gz\n"
     ]
    }
   ],
   "source": [
    "import tensorflow.examples.tutorials.mnist.input_data as input_data\n",
    "mnist=input_data.read_data_sets(\"MNIST\")"
   ]
  },
  {
   "cell_type": "code",
   "execution_count": 3,
   "metadata": {
    "collapsed": true
   },
   "outputs": [],
   "source": [
    "trainmnist=mnist.train.images\n",
    "testmnist=mnist.test.images\n",
    "trainlabelmnist=mnist.train.labels\n",
    "testlabelmnist=mnist.test.labels"
   ]
  },
  {
   "cell_type": "code",
   "execution_count": 20,
   "metadata": {},
   "outputs": [
    {
     "data": {
      "image/png": "[encoded data removed]",
      "text/plain": [
       "<matplotlib.figure.Figure at 0x1fe82080ba8>"
      ]
     },
     "metadata": {},
     "output_type": "display_data"
    }
   ],
   "source": [
    "# 画出大概的图像来看一看\n",
    "import matplotlib.pyplot as plt\n",
    "import matplotlib\n",
    "target_image=trainmnist[36000] # 提取某一行\n",
    "target_image_mm=target_image.reshape(28,28) # 每一个像素点大概是28*28大小\n",
    "plt.imshow(target_image_mm,cmap='binary',interpolation='nearest')\n",
    "plt.axis('off')\n",
    "plt.show()\n",
    "plt.close()"
   ]
  },
  {
   "cell_type": "code",
   "execution_count": 5,
   "metadata": {
    "collapsed": true
   },
   "outputs": [],
   "source": [
    "# 我们先训练一个二分类器\n",
    "trainlabelmnist_5=(trainlabelmnist==5)\n",
    "testlabelmnist_5=(testlabelmnist==5)"
   ]
  },
  {
   "cell_type": "code",
   "execution_count": 6,
   "metadata": {},
   "outputs": [
    {
     "name": "stderr",
     "output_type": "stream",
     "text": [
      "C:\\Users\\admin\\Anaconda3\\lib\\site-packages\\sklearn\\linear_model\\stochastic_gradient.py:84: FutureWarning: max_iter and tol parameters have been added in <class 'sklearn.linear_model.stochastic_gradient.SGDClassifier'> in 0.19. If both are left unset, they default to max_iter=5 and tol=None. If tol is not None, max_iter defaults to max_iter=1000. From 0.21, default max_iter will be 1000, and default tol will be 1e-3.\n",
      "  \"and default tol will be 1e-3.\" % type(self), FutureWarning)\n"
     ]
    },
    {
     "data": {
      "text/plain": [
       "SGDClassifier(alpha=0.0001, average=False, class_weight=None, epsilon=0.1,\n",
       "       eta0=0.0, fit_intercept=True, l1_ratio=0.15,\n",
       "       learning_rate='optimal', loss='hinge', max_iter=5, n_iter=None,\n",
       "       n_jobs=1, penalty='l2', power_t=0.5, random_state=42, shuffle=True,\n",
       "       tol=None, verbose=0, warm_start=False)"
      ]
     },
     "execution_count": 6,
     "metadata": {},
     "output_type": "execute_result"
    }
   ],
   "source": [
    "# 使用随机梯度下降分类方法\n",
    "from sklearn.linear_model import SGDClassifier # 默认是使用线性支持向量机作为基本的分类器！！\n",
    "sgdc=SGDClassifier(random_state=42)\n",
    "sgdc.fit(trainmnist,trainlabelmnist_5)"
   ]
  },
  {
   "cell_type": "code",
   "execution_count": 7,
   "metadata": {},
   "outputs": [],
   "source": [
    "from sklearn.model_selection import cross_val_score # 交叉验证查看准确率\n",
    "score=cross_val_score(sgdc,trainmnist,trainlabelmnist_5,cv=3,scoring='accuracy')"
   ]
  },
  {
   "cell_type": "code",
   "execution_count": 8,
   "metadata": {},
   "outputs": [
    {
     "data": {
      "text/plain": [
       "array([ 0.96280135,  0.96449026,  0.96689031])"
      ]
     },
     "execution_count": 8,
     "metadata": {},
     "output_type": "execute_result"
    }
   ],
   "source": [
    "score # 可以看到准确率比较高，但是我们也要想为什么这么高，这时有原因的，因为其实不是5的数据特别多，是5的数据特别少，所以进行2分类的时候\n",
    "# 只要判断不是5 就能获得很高的accuracy,但是实际上这是很不准确的"
   ]
  },
  {
   "cell_type": "code",
   "execution_count": 9,
   "metadata": {},
   "outputs": [
    {
     "name": "stdout",
     "output_type": "stream",
     "text": [
      "0.962801352678\n",
      "0.964490263459\n",
      "0.966890307096\n"
     ]
    }
   ],
   "source": [
    "# 另一个交叉验证--自己写函数来验证\n",
    "from sklearn.model_selection import StratifiedKFold\n",
    "from sklearn.base import clone\n",
    "skfold=StratifiedKFold(n_splits=3,random_state=42) # 将这个随机划分为三份\n",
    "for trainix,testix in skfold.split(trainmnist,trainlabelmnist_5):\n",
    "    clonesgdc=clone(sgdc)\n",
    "    train_fold_train=trainmnist[trainix]\n",
    "    train_fold_test=trainmnist[testix]\n",
    "    train_fold_train_label=trainlabelmnist_5[trainix]\n",
    "    train_fold_test_label=trainlabelmnist_5[testix]\n",
    "    clonesgdc.fit(train_fold_train,train_fold_train_label)\n",
    "    predict=clonesgdc.predict(train_fold_test)\n",
    "    ncorrect=np.sum(predict==train_fold_test_label)\n",
    "    print(ncorrect/len(predict))"
   ]
  },
  {
   "cell_type": "code",
   "execution_count": 10,
   "metadata": {},
   "outputs": [
    {
     "data": {
      "text/plain": [
       "array([ 0.91087597,  0.90814378,  0.90896198])"
      ]
     },
     "execution_count": 10,
     "metadata": {},
     "output_type": "execute_result"
    }
   ],
   "source": [
    "# 构建一个估计器\n",
    "from sklearn.base import BaseEstimator\n",
    "class NotFiveAccuracy(BaseEstimator):\n",
    "    def fit(self,X,y):\n",
    "        return self\n",
    "    def predict(self,X):\n",
    "        return(np.zeros(shape=(len(X),1),dtype=bool))\n",
    "# 这个是用来将传入的X转化为相同长度的0矩阵，也就是说将这个0矩阵和不是为5的比较以下，看看是不是不是5的居多\n",
    "from sklearn.model_selection import cross_val_score\n",
    "notfive=NotFiveAccuracy()\n",
    "cross_val_score(notfive,trainmnist,trainlabelmnist_5,cv=3,scoring='accuracy')  # 从结果可以看到其实不是5的数据尤其多\n",
    "# 所以说明上面哪个而分类器事实上并没有那么的准确，只要将所有的结果都表示为False,就能有90%的准确率了，实际上这时很错误的"
   ]
  },
  {
   "cell_type": "code",
   "execution_count": 11,
   "metadata": {},
   "outputs": [],
   "source": [
    "from sklearn.model_selection import cross_val_predict\n",
    "prediction=cross_val_predict(sgdc,trainmnist,trainlabelmnist_5,cv=3) # 返回每一个元素都作为测试集时的训练结果"
   ]
  },
  {
   "cell_type": "code",
   "execution_count": 12,
   "metadata": {},
   "outputs": [
    {
     "data": {
      "text/plain": [
       "array([[48993,  1020],\n",
       "       [  920,  4067]], dtype=int64)"
      ]
     },
     "execution_count": 12,
     "metadata": {},
     "output_type": "execute_result"
    }
   ],
   "source": [
    "from sklearn.metrics import confusion_matrix\n",
    "confusion_matrix(trainlabelmnist_5,prediction)"
   ]
  },
  {
   "cell_type": "code",
   "execution_count": 13,
   "metadata": {},
   "outputs": [
    {
     "data": {
      "text/plain": [
       "0.79948889325732264"
      ]
     },
     "execution_count": 13,
     "metadata": {},
     "output_type": "execute_result"
    }
   ],
   "source": [
    "from sklearn.metrics import precision_score,recall_score\n",
    "precision_score(trainlabelmnist_5,prediction) # 这里判断阴率和阳率是用True和False来判断的是阴还是阳的"
   ]
  },
  {
   "cell_type": "code",
   "execution_count": 14,
   "metadata": {},
   "outputs": [
    {
     "data": {
      "text/plain": [
       "0.81552035291758573"
      ]
     },
     "execution_count": 14,
     "metadata": {},
     "output_type": "execute_result"
    }
   ],
   "source": [
    "recall_score(trainlabelmnist_5,prediction)"
   ]
  },
  {
   "cell_type": "code",
   "execution_count": 15,
   "metadata": {},
   "outputs": [
    {
     "data": {
      "text/plain": [
       "0.80742505459598968"
      ]
     },
     "execution_count": 15,
     "metadata": {},
     "output_type": "execute_result"
    }
   ],
   "source": [
    "from sklearn.metrics import f1_score\n",
    "f1_score(trainlabelmnist_5,prediction)"
   ]
  },
  {
   "cell_type": "code",
   "execution_count": 22,
   "metadata": {},
   "outputs": [
    {
     "data": {
      "text/plain": [
       "array([ True], dtype=bool)"
      ]
     },
     "execution_count": 22,
     "metadata": {},
     "output_type": "execute_result"
    }
   ],
   "source": [
    " # SGDC本质上是计算出一个决策函数的值，当这个决策函数的值大于某个阈值，分为正类，否则分为负类\n",
    "pred=sgdc.decision_function([target_image])\n",
    "# 所以说本质上我们可以不使用fit和predict来预测，fit里面的threshold一般设\n",
    "#置为0，所以我们可以自己对threshold进行设置\n",
    "y_target_image_pred=pred>0\n",
    "y_target_image_pred"
   ]
  },
  {
   "cell_type": "code",
   "execution_count": 24,
   "metadata": {},
   "outputs": [
    {
     "data": {
      "text/plain": [
       "array([False], dtype=bool)"
      ]
     },
     "execution_count": 24,
     "metadata": {},
     "output_type": "execute_result"
    }
   ],
   "source": [
    "y_target_image_pred=pred>2000 # 当我们把阈值设置为2000时，此时的预测结果便是为false\n",
    "y_target_image_pred"
   ]
  },
  {
   "cell_type": "code",
   "execution_count": 57,
   "metadata": {},
   "outputs": [],
   "source": [
    "# 所以到底使用哪个阈值好呢，我们来看一下\n",
    "from sklearn.model_selection import cross_val_predict\n",
    "prescore=cross_val_predict(sgdc,trainmnist,trainlabelmnist_5,cv=3,method='decision_function')"
   ]
  },
  {
   "cell_type": "code",
   "execution_count": 70,
   "metadata": {},
   "outputs": [],
   "source": [
    "from sklearn.metrics import precision_recall_curve\n",
    "# 这个函数是用于计算在不同的thresholds下不同的precisons，recallls\n",
    "precisions,recalls,thresholds=precision_recall_curve(trainlabelmnist_5,prescore[:,1])"
   ]
  },
  {
   "cell_type": "code",
   "execution_count": 74,
   "metadata": {},
   "outputs": [
    {
     "data": {
      "image/png": "[encoded data removed]",
      "text/plain": [
       "<matplotlib.figure.Figure at 0x1fe895c8c18>"
      ]
     },
     "metadata": {},
     "output_type": "display_data"
    }
   ],
   "source": [
    "# 第一种选择precisions和recalls的方法--\n",
    "# 看这样的图片就可以找出合适的threshold来控制precision和recalls\n",
    "import matplotlib.pyplot as plt\n",
    "plt.plot(thresholds,precisions[:-1],label='precisions')\n",
    "plt.plot(thresholds,recalls[:-1],label='recalls')\n",
    "plt.legend()\n",
    "plt.show()\n",
    "plt.close()"
   ]
  },
  {
   "cell_type": "code",
   "execution_count": 79,
   "metadata": {},
   "outputs": [
    {
     "data": {
      "image/png": "[encoded data removed]",
      "text/plain": [
       "<matplotlib.figure.Figure at 0x1fe891d5fd0>"
      ]
     },
     "metadata": {},
     "output_type": "display_data"
    }
   ],
   "source": [
    "plt.plot(recalls,precisions)\n",
    "plt.xlabel('recalls')\n",
    "plt.ylabel('precisions')\n",
    "plt.show()\n",
    "plt.close()\n",
    "# 可以看到precisions在recalls等于0.8左右的时候开始急剧下降，所以需要找一个可能的值\n",
    "# 把precisions和recalls控制在一个合理的范围内"
   ]
  },
  {
   "cell_type": "code",
   "execution_count": 106,
   "metadata": {
    "collapsed": true
   },
   "outputs": [],
   "source": [
    "pred=sgdc.decision_function(trainmnist)>2"
   ]
  },
  {
   "cell_type": "code",
   "execution_count": 107,
   "metadata": {},
   "outputs": [
    {
     "data": {
      "text/plain": [
       "0.89950106913756234"
      ]
     },
     "execution_count": 107,
     "metadata": {},
     "output_type": "execute_result"
    }
   ],
   "source": [
    "precision_score(y_true=trainlabelmnist_5,y_pred=pred)"
   ]
  },
  {
   "cell_type": "code",
   "execution_count": 108,
   "metadata": {},
   "outputs": [
    {
     "data": {
      "text/plain": [
       "0.75917385201523957"
      ]
     },
     "execution_count": 108,
     "metadata": {},
     "output_type": "execute_result"
    }
   ],
   "source": [
    "recall_score(y_true=trainlabelmnist_5,y_pred=pred)"
   ]
  },
  {
   "cell_type": "code",
   "execution_count": null,
   "metadata": {
    "collapsed": true
   },
   "outputs": [],
   "source": []
  }
 ],
 "metadata": {
  "kernelspec": {
   "display_name": "Python 3",
   "language": "python",
   "name": "python3"
  },
  "language_info": {
   "codemirror_mode": {
    "name": "ipython",
    "version": 3
   },
   "file_extension": ".py",
   "mimetype": "text/x-python",
   "name": "python",
   "nbconvert_exporter": "python",
   "pygments_lexer": "ipython3",
   "version": "3.6.2"
  }
 },
 "nbformat": 4,
 "nbformat_minor": 2
}
